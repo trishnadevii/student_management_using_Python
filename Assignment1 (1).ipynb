{
  "nbformat": 4,
  "nbformat_minor": 0,
  "metadata": {
    "colab": {
      "provenance": []
    },
    "kernelspec": {
      "name": "python3",
      "display_name": "Python 3"
    },
    "language_info": {
      "name": "python"
    }
  },
  "cells": [
    {
      "cell_type": "markdown",
      "source": [
        "# Student Records **Management**"
      ],
      "metadata": {
        "id": "uka-s7ysYjL_"
      }
    },
    {
      "cell_type": "code",
      "source": [
        "#The list of dictionaries where each dictionary represents a student\n",
        "students = [\n",
        "   #Student 1\n",
        "    {\n",
        "        'stud_id': (18, 'CSD240'), #Unique identifier (a tuple consisting of an interger & a string)\n",
        "        'name': 'Trishna Devi', #The student's full name (using a string).\n",
        "        'age': 23, #The student's age (using an integer).\n",
        "        'enrolled_courses': {'CS539', 'CS542', 'CS500'}, #The set of course codes\n",
        "        'grades': {'CS539': 73, 'CS542': 87, 'CS500': 64} #A dictionary(course codes are 'keys' & grades are 'value')\n",
        "    },\n",
        "    #Student 2\n",
        "    {\n",
        "        'stud_id': (11, 'CSD241'),\n",
        "        'name': 'Manu bhaker',\n",
        "        'age': 22,\n",
        "        'enrolled_courses': {'CS101', 'CS303', 'CS111'},\n",
        "        'grades': {'CS101': 90, 'CS303': 81, 'CS111':44}\n",
        "    },\n",
        "    #Student 3\n",
        "    {\n",
        "        'stud_id': (30, 'CSD789'),\n",
        "        'name': 'Elon mask',\n",
        "        'age': 24,\n",
        "        'enrolled_courses': {'CS101', 'CS542'},\n",
        "        'grades': {'CS101': 91, 'CS542': 88}\n",
        "    },\n",
        "    #Student 4\n",
        "    {\n",
        "        'stud_id': (1, 'CSM211'),\n",
        "        'name': 'Michael Paul',\n",
        "        'age': 23,\n",
        "        'enrolled_courses': {'CS303', 'CS500', 'CS101'},\n",
        "        'grades': {'CS303': 73, 'CS500': 69, 'CS101': 80}\n",
        "    },\n",
        "    #Student 5\n",
        "    {\n",
        "        'stud_id': (21, 'CST222'),\n",
        "        'name': 'Sophia Lee',\n",
        "        'age': 22,\n",
        "        'enrolled_courses': {'CS500', 'CS111'},\n",
        "        'grades': {'CS500': 81, 'CS111': 56}\n",
        "    }\n",
        "]"
      ],
      "metadata": {
        "id": "Qyv0y1NnYqZq"
      },
      "execution_count": null,
      "outputs": []
    },
    {
      "cell_type": "markdown",
      "source": [
        "#TASK: Add a new student to the list. Ensure the student ID is unique and cannot be altered once set."
      ],
      "metadata": {
        "id": "-KejuQlcZBw-"
      }
    },
    {
      "cell_type": "code",
      "source": [
        "#Function to add new student to the 'students' list:\n",
        "def add_student(students, student_id, name, age, enrolled_courses, grades):\n",
        "    # Check if the ID is unique\n",
        "    if any(student['stud_id'] == student_id for student in students):\n",
        "        raise ValueError(\"Student ID must be unique.\")\n",
        "\n",
        "    #To Add the new student dictionary to the end of the 'students' list.\n",
        "    students.append({\n",
        "        'stud_id': student_id,\n",
        "        'name': name,\n",
        "        'age': age,\n",
        "        'enrolled_courses': enrolled_courses,\n",
        "        'grades': grades\n",
        "    })"
      ],
      "metadata": {
        "id": "budFvrxyZDzR"
      },
      "execution_count": null,
      "outputs": []
    },
    {
      "cell_type": "code",
      "source": [
        "# Adding..\n",
        "add_student(\n",
        "    students,\n",
        "    (16, 'CST242'),\n",
        "    'Olivia Martin',\n",
        "    24,\n",
        "    {'CS101', 'CS303'},\n",
        "    {'CS101': 86, 'CS303': 67}\n",
        ")"
      ],
      "metadata": {
        "id": "MfZFM98yZO_g"
      },
      "execution_count": null,
      "outputs": []
    },
    {
      "cell_type": "code",
      "source": [
        "#To check if the student is added or not\n",
        "print(students)"
      ],
      "metadata": {
        "colab": {
          "base_uri": "https://localhost:8080/"
        },
        "id": "8yfu7jKIZULG",
        "outputId": "ff9300f8-b375-45ea-9379-d567ce7d6207"
      },
      "execution_count": null,
      "outputs": [
        {
          "output_type": "stream",
          "name": "stdout",
          "text": [
            "[{'stud_id': (18, 'CSD240'), 'name': 'Trishna Devi', 'age': 23, 'enrolled_courses': {'CS539', 'CS542', 'CS500'}, 'grades': {'CS539': 73, 'CS542': 87, 'CS500': 64}}, {'stud_id': (11, 'CSD241'), 'name': 'Manu bhaker', 'age': 22, 'enrolled_courses': {'CS101', 'CS303', 'CS111'}, 'grades': {'CS101': 90, 'CS303': 81, 'CS111': 44}}, {'stud_id': (30, 'CSD789'), 'name': 'Elon mask', 'age': 24, 'enrolled_courses': {'CS101', 'CS542'}, 'grades': {'CS101': 91, 'CS542': 88}}, {'stud_id': (1, 'CSM211'), 'name': 'Michael Paul', 'age': 23, 'enrolled_courses': {'CS101', 'CS500', 'CS303'}, 'grades': {'CS303': 73, 'CS500': 69, 'CS101': 80}}, {'stud_id': (21, 'CST222'), 'name': 'Sophia Lee', 'age': 22, 'enrolled_courses': {'CS500', 'CS111'}, 'grades': {'CS500': 81, 'CS111': 56}}, {'stud_id': (16, 'CST242'), 'name': 'Olivia Martin', 'age': 24, 'enrolled_courses': {'CS101', 'CS303'}, 'grades': {'CS101': 86, 'CS303': 67}}]\n"
          ]
        }
      ]
    },
    {
      "cell_type": "markdown",
      "source": [
        "TASK: Update the courses enrolled for a specific student without affecting the existing data.\n"
      ],
      "metadata": {
        "id": "rrNEOcTRZrBq"
      }
    },
    {
      "cell_type": "code",
      "source": [
        "def update_courses(students, student_id, new_courses):\n",
        "    for student in students:\n",
        "        if student['stud_id'] == student_id:\n",
        "            student['enrolled_courses'] = new_courses\n",
        "            return\n",
        "    raise ValueError(\"Student ID not found.\")\n",
        "\n",
        "#Updating the enrrolled course for student 3\n",
        "update_courses(\n",
        "    students,\n",
        "    (30, 'CSD789'),\n",
        "    {'CS101', 'CT444', 'CS001'})"
      ],
      "metadata": {
        "id": "lBWBxqArZ3l1"
      },
      "execution_count": null,
      "outputs": []
    },
    {
      "cell_type": "code",
      "source": [
        "#To check updated enrolled course for student 3\n",
        "print(students)\n"
      ],
      "metadata": {
        "colab": {
          "base_uri": "https://localhost:8080/"
        },
        "id": "tqM4Xg69bycl",
        "outputId": "3bad5abc-6df9-4954-ae67-47f7fbc6c5a7"
      },
      "execution_count": null,
      "outputs": [
        {
          "output_type": "stream",
          "name": "stdout",
          "text": [
            "[{'stud_id': (18, 'CSD240'), 'name': 'Trishna Devi', 'age': 23, 'enrolled_courses': {'CS539', 'CS542', 'CS500'}, 'grades': {'CS539': 73, 'CS542': 87, 'CS500': 64}}, {'stud_id': (11, 'CSD241'), 'name': 'Manu bhaker', 'age': 22, 'enrolled_courses': {'CS101', 'CS303', 'CS111'}, 'grades': {'CS101': 90, 'CS303': 81, 'CS111': 44}}, {'stud_id': (30, 'CSD789'), 'name': 'Elon mask', 'age': 24, 'enrolled_courses': {'CS101', 'CS001', 'CT444'}, 'grades': {'CS101': 91, 'CS542': 88}}, {'stud_id': (1, 'CSM211'), 'name': 'Michael Paul', 'age': 23, 'enrolled_courses': {'CS101', 'CS500', 'CS303'}, 'grades': {'CS303': 73, 'CS500': 69, 'CS101': 80}}, {'stud_id': (21, 'CST222'), 'name': 'Sophia Lee', 'age': 22, 'enrolled_courses': {'CS500', 'CS111'}, 'grades': {'CS500': 81, 'CS111': 56}}, {'stud_id': (16, 'CST242'), 'name': 'Olivia Martin', 'age': 24, 'enrolled_courses': {'CS101', 'CS303'}, 'grades': {'CS101': 86, 'CS303': 67}}]\n"
          ]
        }
      ]
    },
    {
      "cell_type": "markdown",
      "source": [
        "#TASK: Modify a student's grade for a specific course. If the student is not enrolled in the course, add the course and grade to their record."
      ],
      "metadata": {
        "id": "GZ5uqrEWaDjT"
      }
    },
    {
      "cell_type": "code",
      "source": [
        "def update_grade(students, student_id, course_code, grade):\n",
        "        for student in students:\n",
        "            if student['stud_id'] == student_id:\n",
        "              student['grades'][course_code] = grade\n",
        "            if course_code not in student['enrolled_courses']:\n",
        "                student['enrolled_courses'].add(course_code)\n",
        "            return\n",
        "        raise ValueError(\"Student ID not found.\")\n",
        "\n",
        "\n",
        "# updating\n",
        "update_grade(\n",
        "    students,\n",
        "    (18, 'CSD240'),\n",
        "    'CT444',\n",
        "    80)"
      ],
      "metadata": {
        "id": "EqL4eCzeaF-z"
      },
      "execution_count": null,
      "outputs": []
    },
    {
      "cell_type": "code",
      "source": [
        "#to check if grade is updated of student 1 for CT444 course\n",
        "print(students)\n"
      ],
      "metadata": {
        "colab": {
          "base_uri": "https://localhost:8080/"
        },
        "id": "ecZ-rF51alvS",
        "outputId": "28a95582-d0a6-427f-ad4a-4acd03732ddc"
      },
      "execution_count": null,
      "outputs": [
        {
          "output_type": "stream",
          "name": "stdout",
          "text": [
            "[{'stud_id': (18, 'CSD240'), 'name': 'Trishna Devi', 'age': 23, 'enrolled_courses': {'CT444', 'CS539', 'CS542', 'CS500'}, 'grades': {'CS539': 73, 'CS542': 87, 'CS500': 64, 'CT444': 80}}, {'stud_id': (11, 'CSD241'), 'name': 'Manu bhaker', 'age': 22, 'enrolled_courses': {'CS101', 'CS303', 'CS111'}, 'grades': {'CS101': 90, 'CS303': 81, 'CS111': 44}}, {'stud_id': (30, 'CSD789'), 'name': 'Elon mask', 'age': 24, 'enrolled_courses': {'CS101', 'CS001', 'CT444'}, 'grades': {'CS101': 91, 'CS542': 88}}, {'stud_id': (1, 'CSM211'), 'name': 'Michael Paul', 'age': 23, 'enrolled_courses': {'CS101', 'CS500', 'CS303'}, 'grades': {'CS303': 73, 'CS500': 69, 'CS101': 80}}, {'stud_id': (21, 'CST222'), 'name': 'Sophia Lee', 'age': 22, 'enrolled_courses': {'CS500', 'CS111'}, 'grades': {'CS500': 81, 'CS111': 56}}, {'stud_id': (16, 'CST242'), 'name': 'Olivia Martin', 'age': 24, 'enrolled_courses': {'CS101', 'CS303'}, 'grades': {'CS101': 86, 'CS303': 67}}]\n"
          ]
        }
      ]
    },
    {
      "cell_type": "markdown",
      "source": [
        "#TASK: Extract the names of all students who are taking a course that is in a predefined set of \"advanced courses\"."
      ],
      "metadata": {
        "id": "J515szSya03e"
      }
    },
    {
      "cell_type": "code",
      "source": [
        "advanced_courses = {'CT444', 'CS001'} #predefined set\n",
        "\n",
        "#Function to get student of advacned_course:\n",
        "\n",
        "# Getting names of students in advanced courses\n",
        "\n",
        "\n",
        "def get_students_in_advanced_courses(students, advanced_courses):\n",
        "    names = [student['name'] for student in students if student['enrolled_courses'] & advanced_courses]\n",
        "    return names\n",
        "\n",
        "print(get_students_in_advanced_courses(students, advanced_courses))\n"
      ],
      "metadata": {
        "colab": {
          "base_uri": "https://localhost:8080/"
        },
        "id": "axmh32O0a18R",
        "outputId": "8e3a6ede-f283-4ee9-a2a6-a4bfc3613735"
      },
      "execution_count": null,
      "outputs": [
        {
          "output_type": "stream",
          "name": "stdout",
          "text": [
            "['Trishna Devi', 'Elon mask']\n"
          ]
        }
      ]
    },
    {
      "cell_type": "markdown",
      "source": [
        "#TASK: Determine the average age of students enrolled in a specific course."
      ],
      "metadata": {
        "id": "PApHow9NbCWn"
      }
    },
    {
      "cell_type": "code",
      "source": [
        "def average_age_in_course(students, course_code):\n",
        "    ages = [student['age'] for student in students if course_code in student['enrolled_courses']]\n",
        "    if not ages:\n",
        "        return None\n",
        "    return sum(ages) / len(ages)\n",
        "\n",
        "\n",
        "print(average_age_in_course(students, 'CS101'))"
      ],
      "metadata": {
        "colab": {
          "base_uri": "https://localhost:8080/"
        },
        "id": "ULizCL-nbDGx",
        "outputId": "343f01aa-6269-4fb3-99f4-bc007c9b1c60"
      },
      "execution_count": null,
      "outputs": [
        {
          "output_type": "stream",
          "name": "stdout",
          "text": [
            "23.25\n"
          ]
        }
      ]
    },
    {
      "cell_type": "markdown",
      "source": [
        "#TASK: Identify the student(s) with the highest average grade across all their courses. If there is a tie, list all such students."
      ],
      "metadata": {
        "id": "R2SO9Dt5bK7g"
      }
    },
    {
      "cell_type": "code",
      "source": [
        "def highest_avg_grade_students(students): #Function defination\n",
        "    avg_grades = {} #Initialize an Empty Dictionary to Store Average Grades\n",
        "    for student in students: #Iterate Over Each Student in the List\n",
        "        grades = student['grades']\n",
        "        if grades:\n",
        "            avg_grade = sum(grades.values()) / len(grades)\n",
        "            avg_grades[student['name']] = avg_grade\n",
        "\n",
        "    if not avg_grades: #Check if There Are Any Grades to Compare\n",
        "        return []\n",
        "\n",
        "    highest_avg = max(avg_grades.values()) #Find the Highest Average Grade\n",
        "    return [name for name, avg in avg_grades.items() if avg == highest_avg] #Return Names of Students With the Highest Average Grade\n",
        "\n",
        "\n",
        "print(highest_avg_grade_students(students))"
      ],
      "metadata": {
        "colab": {
          "base_uri": "https://localhost:8080/"
        },
        "id": "KtIo71oEbL1d",
        "outputId": "ba922ab9-e5e7-44dd-eb20-db495bd32a41"
      },
      "execution_count": null,
      "outputs": [
        {
          "output_type": "stream",
          "name": "stdout",
          "text": [
            "['Elon mask']\n"
          ]
        }
      ]
    }
  ]
}